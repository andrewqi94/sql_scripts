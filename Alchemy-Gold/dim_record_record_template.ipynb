{
 "cells": [
  {
   "cell_type": "code",
   "execution_count": 0,
   "metadata": {
    "application/vnd.databricks.v1+cell": {
     "cellMetadata": {},
     "inputWidgets": {},
     "nuid": "c8f9299a-2bf9-46e6-a98a-24a3f15872e8",
     "showTitle": false,
     "tableResultSettingsMap": {},
     "title": ""
    }
   },
   "outputs": [],
   "source": [
    "catalogs = ['alchemy_battery', 'alchemy_metrology']\n",
    "\n",
    "for catalog in catalogs:\n",
    "    spark.sql(f\"CREATE SCHEMA IF NOT EXISTS `{catalog}`.`gold`;\")\n",
    "\n",
    "    spark.sql(f\"\"\"\n",
    "              CREATE TABLE IF NOT EXISTS `{catalog}`.`gold`.`dim_record_template` (\n",
    "                  \n",
    "              )\n",
    "              \"\"\")\n",
    "    \n",
    "    spark.sql(f\"\"\"\n",
    "              CREATE TABLE IF NOT EXISTS `{catalog}`.`gold`.`dim_record` (\n",
    "                  record_pk bigint primary key \n",
    "                    COMMENT 'Matches the internal recordId from Alchemy instead of using a surrogate key.',\n",
    "                  record_name string,\n",
    "                  created_date timestamp,\n",
    "                  updated_date timestamp,\n",
    "                  template_pk bigint not null\n",
    "              ) COMMENT \n",
    "                'Each record object from Alchemy';\n",
    "              \"\"\"\n",
    "    )"
   ]
  }
 ],
 "metadata": {
  "application/vnd.databricks.v1+notebook": {
   "computePreferences": null,
   "dashboards": [],
   "environmentMetadata": {
    "base_environment": "",
    "environment_version": "3"
   },
   "inputWidgetPreferences": null,
   "language": "python",
   "notebookMetadata": {
    "pythonIndentUnit": 4
   },
   "notebookName": "dim_record_record_template",
   "widgets": {}
  },
  "language_info": {
   "name": "python"
  }
 },
 "nbformat": 4,
 "nbformat_minor": 0
}
